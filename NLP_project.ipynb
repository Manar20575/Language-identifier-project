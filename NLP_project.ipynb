{
 "cells": [
  {
   "cell_type": "markdown",
   "id": "2963da5f",
   "metadata": {},
   "source": [
    "# <font color='blue'> Import Libraries</font>\n"
   ]
  },
  {
   "cell_type": "code",
   "execution_count": 1,
   "id": "7150a254",
   "metadata": {},
   "outputs": [],
   "source": [
    "import numpy as np\n",
    "import pandas as pd \n",
    "import matplotlib.pyplot as plt\n",
    "import nltk as nltk\n",
    "import re\n",
    "import string as str\n",
    "from nltk.tokenize import word_tokenize\n",
    "import nltk.data\n",
    "import csv\n",
    "import pickle\n",
    "import warnings\n",
    "warnings.simplefilter(\"ignore\")\n",
    "import codecs\n",
    "from nltk.corpus import stopwords\n",
    "from sklearn.feature_extraction.text import TfidfVectorizer\n",
    "from sklearn.feature_extraction.text import CountVectorizer\n",
    "import numpy as np\n",
    "import matplotlib.pyplot as plt\n",
    "%matplotlib inline\n",
    "import os\n",
    "from tqdm import tqdm\n",
    "from sklearn.model_selection import train_test_split\n",
    "from sklearn.naive_bayes import MultinomialNB\n",
    "from sklearn.metrics import precision_score, recall_score, accuracy_score,confusion_matrix,classification_report\n",
    "from sklearn.ensemble import RandomForestClassifier\n",
    "from sklearn import tree"
   ]
  },
  {
   "cell_type": "markdown",
   "id": "b50085a8",
   "metadata": {},
   "source": [
    "# <font color='blue'>  Reading Data </font>\n"
   ]
  },
  {
   "cell_type": "code",
   "execution_count": 2,
   "id": "aa3ffd02",
   "metadata": {},
   "outputs": [],
   "source": [
    "# Loading the dataset\n",
    "data=pd.read_csv(\"Language Detection.csv\") "
   ]
  },
  {
   "cell_type": "code",
   "execution_count": 3,
   "id": "d1da5627",
   "metadata": {},
   "outputs": [
    {
     "data": {
      "text/html": [
       "<div>\n",
       "<style scoped>\n",
       "    .dataframe tbody tr th:only-of-type {\n",
       "        vertical-align: middle;\n",
       "    }\n",
       "\n",
       "    .dataframe tbody tr th {\n",
       "        vertical-align: top;\n",
       "    }\n",
       "\n",
       "    .dataframe thead th {\n",
       "        text-align: right;\n",
       "    }\n",
       "</style>\n",
       "<table border=\"1\" class=\"dataframe\">\n",
       "  <thead>\n",
       "    <tr style=\"text-align: right;\">\n",
       "      <th></th>\n",
       "      <th>Text</th>\n",
       "      <th>Language</th>\n",
       "    </tr>\n",
       "  </thead>\n",
       "  <tbody>\n",
       "    <tr>\n",
       "      <th>0</th>\n",
       "      <td>Nature, in the broadest sense, is the natural, physical, material world or universe.</td>\n",
       "      <td>English</td>\n",
       "    </tr>\n",
       "    <tr>\n",
       "      <th>1</th>\n",
       "      <td>\"Nature\" can refer to the phenomena of the physical world, and also to life in general.</td>\n",
       "      <td>English</td>\n",
       "    </tr>\n",
       "    <tr>\n",
       "      <th>2</th>\n",
       "      <td>The study of nature is a large, if not the only, part of science.</td>\n",
       "      <td>English</td>\n",
       "    </tr>\n",
       "    <tr>\n",
       "      <th>3</th>\n",
       "      <td>Although humans are part of nature, human activity is often understood as a separate category from other natural phenomena.</td>\n",
       "      <td>English</td>\n",
       "    </tr>\n",
       "    <tr>\n",
       "      <th>4</th>\n",
       "      <td>[1] The word nature is borrowed from the Old French nature and is derived from the Latin word natura, or \"essential qualities, innate disposition\", and in ancient times, literally meant \"birth\".</td>\n",
       "      <td>English</td>\n",
       "    </tr>\n",
       "    <tr>\n",
       "      <th>...</th>\n",
       "      <td>...</td>\n",
       "      <td>...</td>\n",
       "    </tr>\n",
       "    <tr>\n",
       "      <th>10332</th>\n",
       "      <td>ನಿಮ್ಮ ತಪ್ಪು ಏನು ಬಂದಿದೆಯೆಂದರೆ ಆ ದಿನದಿಂದ ನಿಮಗೆ ಒಳ್ಳೆಯದನ್ನು ನೀಡೋಣ.</td>\n",
       "      <td>Kannada</td>\n",
       "    </tr>\n",
       "    <tr>\n",
       "      <th>10333</th>\n",
       "      <td>ನಾರ್ಸಿಸಾ ತಾನು ಮೊದಲಿಗೆ ಹೆಣಗಾಡುತ್ತಿದ್ದ ಮಾರ್ಗಗಳನ್ನು ಬದಲಾಯಿಸಿದಳು ಆದರೆ ನಿಧಾನವಾಗಿ ಮತ್ತು ತಾಳ್ಮೆಯಿಂದ ಅವಳು ಒಂದು ದಿನ ಮೆಲ್ಲಿ ಆಗಲು ಪ್ರಾರಂಭಿಸಿದಳು ಮೆಲ್ಲಿ ಮತ್ತು ಟೆರ್ರಿ ಮತ್ತೆ ಮರಿಯನ್ ಅವರನ್ನು ಭೇಟಿಯಾಗಲು ಬಂದರು ಓಹ್ ಹಲ...</td>\n",
       "      <td>Kannada</td>\n",
       "    </tr>\n",
       "    <tr>\n",
       "      <th>10334</th>\n",
       "      <td>ಹೇಗೆ ' ನಾರ್ಸಿಸಿಸಮ್ ಈಗ ಮರಿಯನ್ ಅವರಿಗೆ ಸಂಭವಿಸಿದ ಎಲ್ಲವನ್ನೂ ಹೇಳಿದೆ ಮತ್ತು ಅವಳು ಆ ಸಮಯದಿಂದ ತುಂಬಾ ಬದಲಾಗಿದ್ದಾಳೆ.</td>\n",
       "      <td>Kannada</td>\n",
       "    </tr>\n",
       "    <tr>\n",
       "      <th>10335</th>\n",
       "      <td>ಅವಳು ಈಗ ಹೆಚ್ಚು ಚಿನ್ನದ ಬ್ರೆಡ್ ಬಯಸುವುದಿಲ್ಲ ಎಂದು ನಾನು ess ಹಿಸಿದ್ದೇನೆ.</td>\n",
       "      <td>Kannada</td>\n",
       "    </tr>\n",
       "    <tr>\n",
       "      <th>10336</th>\n",
       "      <td>ಟೆರ್ರಿ ನೀವು ನಿಜವಾಗಿಯೂ ಆ ದೇವದೂತನಂತೆ ಸ್ವಲ್ಪ ಕಾಣುತ್ತಿದ್ದೀರಿ ಆದರೆ ನಾನು ಏನು ನೋಡುತ್ತಿದ್ದೇನೆ ನೀವು ಹೇಗೆ ಅವನಾಗಬಹುದು ನೀವು ಇಬ್ಬರು ತುಂಬಾ ಒಳ್ಳೆಯವರು</td>\n",
       "      <td>Kannada</td>\n",
       "    </tr>\n",
       "  </tbody>\n",
       "</table>\n",
       "<p>10337 rows × 2 columns</p>\n",
       "</div>"
      ],
      "text/plain": [
       "                                                                                                                                                                                                          Text  \\\n",
       "0                                                                                                                         Nature, in the broadest sense, is the natural, physical, material world or universe.   \n",
       "1                                                                                                                      \"Nature\" can refer to the phenomena of the physical world, and also to life in general.   \n",
       "2                                                                                                                                            The study of nature is a large, if not the only, part of science.   \n",
       "3                                                                                  Although humans are part of nature, human activity is often understood as a separate category from other natural phenomena.   \n",
       "4           [1] The word nature is borrowed from the Old French nature and is derived from the Latin word natura, or \"essential qualities, innate disposition\", and in ancient times, literally meant \"birth\".   \n",
       "...                                                                                                                                                                                                        ...   \n",
       "10332                                                                                                                                          ನಿಮ್ಮ ತಪ್ಪು ಏನು ಬಂದಿದೆಯೆಂದರೆ ಆ ದಿನದಿಂದ ನಿಮಗೆ ಒಳ್ಳೆಯದನ್ನು ನೀಡೋಣ.   \n",
       "10333  ನಾರ್ಸಿಸಾ ತಾನು ಮೊದಲಿಗೆ ಹೆಣಗಾಡುತ್ತಿದ್ದ ಮಾರ್ಗಗಳನ್ನು ಬದಲಾಯಿಸಿದಳು ಆದರೆ ನಿಧಾನವಾಗಿ ಮತ್ತು ತಾಳ್ಮೆಯಿಂದ ಅವಳು ಒಂದು ದಿನ ಮೆಲ್ಲಿ ಆಗಲು ಪ್ರಾರಂಭಿಸಿದಳು ಮೆಲ್ಲಿ ಮತ್ತು ಟೆರ್ರಿ ಮತ್ತೆ ಮರಿಯನ್ ಅವರನ್ನು ಭೇಟಿಯಾಗಲು ಬಂದರು ಓಹ್ ಹಲ...   \n",
       "10334                                                                                                   ಹೇಗೆ ' ನಾರ್ಸಿಸಿಸಮ್ ಈಗ ಮರಿಯನ್ ಅವರಿಗೆ ಸಂಭವಿಸಿದ ಎಲ್ಲವನ್ನೂ ಹೇಳಿದೆ ಮತ್ತು ಅವಳು ಆ ಸಮಯದಿಂದ ತುಂಬಾ ಬದಲಾಗಿದ್ದಾಳೆ.   \n",
       "10335                                                                                                                                       ಅವಳು ಈಗ ಹೆಚ್ಚು ಚಿನ್ನದ ಬ್ರೆಡ್ ಬಯಸುವುದಿಲ್ಲ ಎಂದು ನಾನು ess ಹಿಸಿದ್ದೇನೆ.   \n",
       "10336                                                                   ಟೆರ್ರಿ ನೀವು ನಿಜವಾಗಿಯೂ ಆ ದೇವದೂತನಂತೆ ಸ್ವಲ್ಪ ಕಾಣುತ್ತಿದ್ದೀರಿ ಆದರೆ ನಾನು ಏನು ನೋಡುತ್ತಿದ್ದೇನೆ ನೀವು ಹೇಗೆ ಅವನಾಗಬಹುದು ನೀವು ಇಬ್ಬರು ತುಂಬಾ ಒಳ್ಳೆಯವರು   \n",
       "\n",
       "      Language  \n",
       "0      English  \n",
       "1      English  \n",
       "2      English  \n",
       "3      English  \n",
       "4      English  \n",
       "...        ...  \n",
       "10332  Kannada  \n",
       "10333  Kannada  \n",
       "10334  Kannada  \n",
       "10335  Kannada  \n",
       "10336  Kannada  \n",
       "\n",
       "[10337 rows x 2 columns]"
      ]
     },
     "execution_count": 3,
     "metadata": {},
     "output_type": "execute_result"
    }
   ],
   "source": [
    "#This line sets an option in pandas to display columns with a maximum width of 200 characters.\n",
    "#This means that if any column has a longer value, it will be truncated to 200 characters.\n",
    "pd.set_option('display.max_colwidth',200)\n",
    "\n",
    "#This line displays the first 10337 rows of the \"data\".\n",
    "data.head(10337)"
   ]
  },
  {
   "cell_type": "markdown",
   "id": "8fc5f297",
   "metadata": {},
   "source": [
    "# <font color='blue'>Count Languages  </font>\n"
   ]
  },
  {
   "cell_type": "code",
   "execution_count": 4,
   "id": "b6257788",
   "metadata": {},
   "outputs": [
    {
     "name": "stdout",
     "output_type": "stream",
     "text": [
      "<class 'pandas.core.frame.DataFrame'>\n",
      "RangeIndex: 10337 entries, 0 to 10336\n",
      "Data columns (total 2 columns):\n",
      " #   Column    Non-Null Count  Dtype \n",
      "---  ------    --------------  ----- \n",
      " 0   Text      10337 non-null  object\n",
      " 1   Language  10337 non-null  object\n",
      "dtypes: object(2)\n",
      "memory usage: 161.6+ KB\n"
     ]
    }
   ],
   "source": [
    "#The info() method provides a summary of the DataFrame,including the number of rows and columns.\n",
    "data.info()"
   ]
  },
  {
   "cell_type": "code",
   "execution_count": 5,
   "id": "1387e012",
   "metadata": {},
   "outputs": [
    {
     "data": {
      "text/plain": [
       "Language\n",
       "English       1385\n",
       "French        1014\n",
       "Spanish        819\n",
       "Portugeese     739\n",
       "Italian        698\n",
       "Russian        692\n",
       "Sweedish       676\n",
       "Malayalam      594\n",
       "Dutch          546\n",
       "Arabic         536\n",
       "Turkish        474\n",
       "German         470\n",
       "Tamil          469\n",
       "Danish         428\n",
       "Kannada        369\n",
       "Greek          365\n",
       "Hindi           63\n",
       "Name: count, dtype: int64"
      ]
     },
     "execution_count": 5,
     "metadata": {},
     "output_type": "execute_result"
    }
   ],
   "source": [
    "# value count for each language\n",
    "data[\"Language\"].value_counts()"
   ]
  },
  {
   "cell_type": "code",
   "execution_count": 6,
   "id": "911975a7",
   "metadata": {},
   "outputs": [
    {
     "data": {
      "text/plain": [
       "Text(0.5, 1.0, 'Target Labels')"
      ]
     },
     "execution_count": 6,
     "metadata": {},
     "output_type": "execute_result"
    },
    {
     "data": {
      "image/png": "[encoded data removed]",
      "text/plain": [
       "<Figure size 1500x500 with 1 Axes>"
      ]
     },
     "metadata": {},
     "output_type": "display_data"
    }
   ],
   "source": [
    "# statistical graphics\n",
    "import seaborn as sns\n",
    "#This line of code creates a new figure with a size of 15 inches wide and 5 inches tall using the figure() function from matplotlib.\n",
    "plt.figure(figsize=(15,5))\n",
    "#creates a bar plot using the countplot() function from seaborn. \n",
    "#the x-axis \"Language\" || the y-axis \"count\".\n",
    "sns.countplot(x='Language',data=data,palette='Set1')\n",
    "#The x-axis will be labeled with the unique language values.\n",
    "#the y-axis will be labeled with the count of each language value\n",
    "plt.title('Target Labels',fontsize=20)"
   ]
  },
  {
   "cell_type": "code",
   "execution_count": 7,
   "id": "c6b39ced",
   "metadata": {},
   "outputs": [],
   "source": [
    "# separating the independent and dependant features\n",
    "X = data[\"Text\"]\n",
    "y = data[\"Language\"]"
   ]
  },
  {
   "cell_type": "code",
   "execution_count": 8,
   "id": "340c80fc",
   "metadata": {},
   "outputs": [
    {
     "data": {
      "text/plain": [
       "(10337,)"
      ]
     },
     "execution_count": 8,
     "metadata": {},
     "output_type": "execute_result"
    }
   ],
   "source": [
    "y.shape"
   ]
  },
  {
   "cell_type": "code",
   "execution_count": 9,
   "id": "e047c329",
   "metadata": {},
   "outputs": [
    {
     "data": {
      "text/plain": [
       "(10337,)"
      ]
     },
     "execution_count": 9,
     "metadata": {},
     "output_type": "execute_result"
    }
   ],
   "source": [
    "X.shape"
   ]
  },
  {
   "cell_type": "markdown",
   "id": "e59f6f84",
   "metadata": {},
   "source": [
    "# <font color='blue'>Text Preprocessing </font>"
   ]
  },
  {
   "cell_type": "code",
   "execution_count": 10,
   "id": "b80e3b95",
   "metadata": {},
   "outputs": [
    {
     "name": "stdout",
     "output_type": "stream",
     "text": [
      "!\"#$%&'()*+,-./:;<=>?@[\\]^_`{|}~\n"
     ]
    }
   ],
   "source": [
    "from string import punctuation\n",
    "punc=punctuation\n",
    "print(punc)"
   ]
  },
  {
   "cell_type": "code",
   "execution_count": 11,
   "id": "69e801b1",
   "metadata": {},
   "outputs": [],
   "source": [
    "#removing punctuation\n",
    "#text_no_punc = []\n",
    "#for text in X:\n",
    "#    text = re.sub(r'[!\"#$``%&\\'»«()*+,-./:;<=>?@\\\\^_`{|}~]', ' ', text)\n",
    "#    text = re.sub(r'[[]]', ' ', text)\n",
    "#    text_no_punc.append(text)"
   ]
  },
  {
   "cell_type": "code",
   "execution_count": 12,
   "id": "ab406b4a",
   "metadata": {},
   "outputs": [],
   "source": [
    "#removing punctuation\n",
    "def remove_punct(tokens):\n",
    "    text =\"\"\n",
    "    punc = punctuation\n",
    "    punc+='``'\n",
    "    punc+=\"''«»؟\"\n",
    "    for w in tokens:\n",
    "        if w not in punc:\n",
    "            text+=w\n",
    "    return text\n",
    "text_no_punc=X.apply(lambda x:remove_punct(x))"
   ]
  },
  {
   "cell_type": "code",
   "execution_count": 13,
   "id": "fe196969",
   "metadata": {},
   "outputs": [
    {
     "data": {
      "text/plain": [
       "[' nature in the broadest sense is the natural physical material world or universe',\n",
       " 'nature can refer to the phenomena of the physical world and also to life in general',\n",
       " 'the study of nature is a large if not the only part of science',\n",
       " 'although humans are part of nature human activity is often understood as a separate category from other natural phenomena',\n",
       " '1 the word nature is borrowed from the old french nature and is derived from the latin word natura or essential qualities innate disposition and in ancient times literally meant birth']"
      ]
     },
     "execution_count": 13,
     "metadata": {},
     "output_type": "execute_result"
    }
   ],
   "source": [
    "#converting to lower\n",
    "filtered_text=[]\n",
    "for text in text_no_punc:\n",
    "    text = text.lower()\n",
    "    filtered_text.append(text)\n",
    "filtered_text[:5]"
   ]
  },
  {
   "cell_type": "markdown",
   "id": "f724ab1c",
   "metadata": {},
   "source": [
    "# <font color='blue'> Count Vecorization </font>"
   ]
  },
  {
   "cell_type": "code",
   "execution_count": 14,
   "id": "01f69526",
   "metadata": {},
   "outputs": [],
   "source": [
    "#counts the occurrence of each word in each text sample and returns sparse matrix. \n",
    "from sklearn.feature_extraction.text import CountVectorizer\n",
    "count = CountVectorizer()\n",
    "X_count = count.fit_transform(filtered_text)"
   ]
  },
  {
   "cell_type": "code",
   "execution_count": 15,
   "id": "ce92de6c",
   "metadata": {},
   "outputs": [
    {
     "name": "stdout",
     "output_type": "stream",
     "text": [
      "(10337, 41358)\n",
      "Sparse Matrix :\n",
      " [[0 0 0 ... 0 0 0]\n",
      " [0 0 0 ... 0 0 0]\n",
      " [0 0 0 ... 0 0 0]\n",
      " ...\n",
      " [0 0 0 ... 0 0 0]\n",
      " [0 0 0 ... 0 0 0]\n",
      " [0 0 0 ... 0 0 0]]\n"
     ]
    }
   ],
   "source": [
    "#print the shape and content of the resulting feature matrix.\n",
    "print(X_count.shape)\n",
    "print('Sparse Matrix :\\n',X_count.toarray())"
   ]
  },
  {
   "cell_type": "markdown",
   "id": "f3f20c22",
   "metadata": {},
   "source": [
    "# <font color='blue'> N-Grams Vecorization</font>"
   ]
  },
  {
   "cell_type": "code",
   "execution_count": 16,
   "id": "04d80b7c",
   "metadata": {},
   "outputs": [],
   "source": [
    "#which is used to convert a list of text samples into a matrix of count features with n-grams of size 2.\n",
    "n_gram=CountVectorizer(ngram_range=(2,2))\n",
    "X_ngram=n_gram.fit_transform(filtered_text)"
   ]
  },
  {
   "cell_type": "code",
   "execution_count": 17,
   "id": "28f54fb6",
   "metadata": {},
   "outputs": [
    {
     "name": "stdout",
     "output_type": "stream",
     "text": [
      "(10337, 130499)\n",
      "Sparse Matrix :\n",
      " [[0 0 0 ... 0 0 0]\n",
      " [0 0 0 ... 0 0 0]\n",
      " [0 0 0 ... 0 0 0]\n",
      " ...\n",
      " [0 0 0 ... 0 0 0]\n",
      " [0 0 0 ... 0 0 0]\n",
      " [0 0 0 ... 0 0 0]]\n"
     ]
    }
   ],
   "source": [
    "#print the shape and content of the result.\n",
    "print(X_ngram.shape)\n",
    "print('Sparse Matrix :\\n',X_ngram.toarray())"
   ]
  },
  {
   "cell_type": "markdown",
   "id": "9c6e4e5c",
   "metadata": {},
   "source": [
    "# <font color='blue'>  TF-IDF Vecorization</font>"
   ]
  },
  {
   "cell_type": "code",
   "execution_count": 18,
   "id": "f49b7615",
   "metadata": {},
   "outputs": [],
   "source": [
    "# to convert a list of text samples into a matrix of TF-IDF features.\n",
    "tfidf=TfidfVectorizer()\n",
    "X_tfidf=n_gram.fit_transform(filtered_text)"
   ]
  },
  {
   "cell_type": "code",
   "execution_count": 19,
   "id": "e09980e9",
   "metadata": {},
   "outputs": [
    {
     "name": "stdout",
     "output_type": "stream",
     "text": [
      "(10337, 130499)\n",
      "Sparse Matrix :\n",
      " [[0 0 0 ... 0 0 0]\n",
      " [0 0 0 ... 0 0 0]\n",
      " [0 0 0 ... 0 0 0]\n",
      " ...\n",
      " [0 0 0 ... 0 0 0]\n",
      " [0 0 0 ... 0 0 0]\n",
      " [0 0 0 ... 0 0 0]]\n"
     ]
    }
   ],
   "source": [
    "#print the shape and content of the result.\n",
    "print(X_tfidf.shape)\n",
    "print('Sparse Matrix :\\n',X_tfidf.toarray())"
   ]
  },
  {
   "cell_type": "markdown",
   "id": "1724ddf2",
   "metadata": {},
   "source": [
    "# <font color='blue'> Languages encoding</font>"
   ]
  },
  {
   "cell_type": "code",
   "execution_count": 20,
   "id": "2f787f30",
   "metadata": {},
   "outputs": [],
   "source": [
    "# converting categorical variables to numerical\n",
    "language_encode={\"English\":0,\n",
    "\"French\":1,\n",
    "\"Spanish\":2,\n",
    "\"Portugeese\":3,\n",
    "\"Italian\":4,\n",
    "\"Russian\":5,\n",
    "\"Sweedish\":6,\n",
    "\"Malayalam\":7,\n",
    "\"Dutch\":8,\n",
    "\"Arabic\":9,\n",
    "\"Turkish\":10,\n",
    "\"German\":11,\n",
    "\"Tamil\":12,\n",
    "\"Danish\":13,\n",
    "\"Kannada\":14,\n",
    "\"Greek\":15,\n",
    "\"Hindi\":16}\n",
    "\n",
    "Y =y.apply(lambda x : language_encode[x])"
   ]
  },
  {
   "cell_type": "code",
   "execution_count": 21,
   "id": "480e7458",
   "metadata": {},
   "outputs": [],
   "source": [
    "#encoding function \n",
    "def getcode(n) : \n",
    "    for x , y in language_encode.items() : \n",
    "        if n == y : \n",
    "            return x "
   ]
  },
  {
   "cell_type": "markdown",
   "id": "57297466",
   "metadata": {},
   "source": [
    "# <font color='blue'>Train Test split</font>"
   ]
  },
  {
   "cell_type": "code",
   "execution_count": 22,
   "id": "491ab47e",
   "metadata": {},
   "outputs": [],
   "source": [
    "from sklearn.model_selection import train_test_split\n",
    "\n",
    "x_train, x_test, y_train, y_test = train_test_split(X_count, Y, test_size = 0.10,random_state=24)"
   ]
  },
  {
   "cell_type": "markdown",
   "id": "2d7ea588",
   "metadata": {},
   "source": [
    "# <font color='blue'>Model creation and prediction  </font>"
   ]
  },
  {
   "cell_type": "code",
   "execution_count": 23,
   "id": "ca28a2cb",
   "metadata": {},
   "outputs": [],
   "source": [
    "from sklearn.naive_bayes import MultinomialNB\n",
    "from sklearn.metrics import precision_score, recall_score, accuracy_score,confusion_matrix,classification_report\n",
    "from sklearn.ensemble import RandomForestClassifier\n",
    "from sklearn import tree"
   ]
  },
  {
   "cell_type": "code",
   "execution_count": 24,
   "id": "3329f271",
   "metadata": {
    "scrolled": true
   },
   "outputs": [
    {
     "data": {
      "text/html": [
       "<style>#sk-container-id-1 {color: black;background-color: white;}#sk-container-id-1 pre{padding: 0;}#sk-container-id-1 div.sk-toggleable {background-color: white;}#sk-container-id-1 label.sk-toggleable__label {cursor: pointer;display: block;width: 100%;margin-bottom: 0;padding: 0.3em;box-sizing: border-box;text-align: center;}#sk-container-id-1 label.sk-toggleable__label-arrow:before {content: \"▸\";float: left;margin-right: 0.25em;color: #696969;}#sk-container-id-1 label.sk-toggleable__label-arrow:hover:before {color: black;}#sk-container-id-1 div.sk-estimator:hover label.sk-toggleable__label-arrow:before {color: black;}#sk-container-id-1 div.sk-toggleable__content {max-height: 0;max-width: 0;overflow: hidden;text-align: left;background-color: #f0f8ff;}#sk-container-id-1 div.sk-toggleable__content pre {margin: 0.2em;color: black;border-radius: 0.25em;background-color: #f0f8ff;}#sk-container-id-1 input.sk-toggleable__control:checked~div.sk-toggleable__content {max-height: 200px;max-width: 100%;overflow: auto;}#sk-container-id-1 input.sk-toggleable__control:checked~label.sk-toggleable__label-arrow:before {content: \"▾\";}#sk-container-id-1 div.sk-estimator input.sk-toggleable__control:checked~label.sk-toggleable__label {background-color: #d4ebff;}#sk-container-id-1 div.sk-label input.sk-toggleable__control:checked~label.sk-toggleable__label {background-color: #d4ebff;}#sk-container-id-1 input.sk-hidden--visually {border: 0;clip: rect(1px 1px 1px 1px);clip: rect(1px, 1px, 1px, 1px);height: 1px;margin: -1px;overflow: hidden;padding: 0;position: absolute;width: 1px;}#sk-container-id-1 div.sk-estimator {font-family: monospace;background-color: #f0f8ff;border: 1px dotted black;border-radius: 0.25em;box-sizing: border-box;margin-bottom: 0.5em;}#sk-container-id-1 div.sk-estimator:hover {background-color: #d4ebff;}#sk-container-id-1 div.sk-parallel-item::after {content: \"\";width: 100%;border-bottom: 1px solid gray;flex-grow: 1;}#sk-container-id-1 div.sk-label:hover label.sk-toggleable__label {background-color: #d4ebff;}#sk-container-id-1 div.sk-serial::before {content: \"\";position: absolute;border-left: 1px solid gray;box-sizing: border-box;top: 0;bottom: 0;left: 50%;z-index: 0;}#sk-container-id-1 div.sk-serial {display: flex;flex-direction: column;align-items: center;background-color: white;padding-right: 0.2em;padding-left: 0.2em;position: relative;}#sk-container-id-1 div.sk-item {position: relative;z-index: 1;}#sk-container-id-1 div.sk-parallel {display: flex;align-items: stretch;justify-content: center;background-color: white;position: relative;}#sk-container-id-1 div.sk-item::before, #sk-container-id-1 div.sk-parallel-item::before {content: \"\";position: absolute;border-left: 1px solid gray;box-sizing: border-box;top: 0;bottom: 0;left: 50%;z-index: -1;}#sk-container-id-1 div.sk-parallel-item {display: flex;flex-direction: column;z-index: 1;position: relative;background-color: white;}#sk-container-id-1 div.sk-parallel-item:first-child::after {align-self: flex-end;width: 50%;}#sk-container-id-1 div.sk-parallel-item:last-child::after {align-self: flex-start;width: 50%;}#sk-container-id-1 div.sk-parallel-item:only-child::after {width: 0;}#sk-container-id-1 div.sk-dashed-wrapped {border: 1px dashed gray;margin: 0 0.4em 0.5em 0.4em;box-sizing: border-box;padding-bottom: 0.4em;background-color: white;}#sk-container-id-1 div.sk-label label {font-family: monospace;font-weight: bold;display: inline-block;line-height: 1.2em;}#sk-container-id-1 div.sk-label-container {text-align: center;}#sk-container-id-1 div.sk-container {/* jupyter's `normalize.less` sets `[hidden] { display: none; }` but bootstrap.min.css set `[hidden] { display: none !important; }` so we also need the `!important` here to be able to override the default hidden behavior on the sphinx rendered scikit-learn.org. See: https://github.com/scikit-learn/scikit-learn/issues/21755 */display: inline-block !important;position: relative;}#sk-container-id-1 div.sk-text-repr-fallback {display: none;}</style><div id=\"sk-container-id-1\" class=\"sk-top-container\"><div class=\"sk-text-repr-fallback\"><pre>MultinomialNB()</pre><b>In a Jupyter environment, please rerun this cell to show the HTML representation or trust the notebook. <br />On GitHub, the HTML representation is unable to render, please try loading this page with nbviewer.org.</b></div><div class=\"sk-container\" hidden><div class=\"sk-item\"><div class=\"sk-estimator sk-toggleable\"><input class=\"sk-toggleable__control sk-hidden--visually\" id=\"sk-estimator-id-1\" type=\"checkbox\" checked><label for=\"sk-estimator-id-1\" class=\"sk-toggleable__label sk-toggleable__label-arrow\">MultinomialNB</label><div class=\"sk-toggleable__content\"><pre>MultinomialNB()</pre></div></div></div></div></div>"
      ],
      "text/plain": [
       "MultinomialNB()"
      ]
     },
     "execution_count": 24,
     "metadata": {},
     "output_type": "execute_result"
    }
   ],
   "source": [
    "# training\n",
    "language_detect_model = MultinomialNB()\n",
    "language_detect_model.fit(x_train, y_train)"
   ]
  },
  {
   "cell_type": "code",
   "execution_count": 25,
   "id": "74a87aae",
   "metadata": {},
   "outputs": [],
   "source": [
    "# prediction \n",
    "y_pred = language_detect_model.predict(x_test)"
   ]
  },
  {
   "cell_type": "markdown",
   "id": "c66959c7",
   "metadata": {},
   "source": [
    "# <font color='blue'>Predictions </font>"
   ]
  },
  {
   "cell_type": "code",
   "execution_count": 26,
   "id": "c30e9577",
   "metadata": {},
   "outputs": [
    {
     "name": "stdout",
     "output_type": "stream",
     "text": [
      "Precision: 0.993 / Recall: 0.989 / Accuracy: 0.989\n"
     ]
    }
   ],
   "source": [
    "precision = precision_score(y_test, y_pred,pos_label='positive',average='macro')\n",
    "recall = recall_score(y_test, y_pred,pos_label='positive',average='macro')\n",
    "accuracy = accuracy_score(y_test, y_pred)\n",
    "#print   Precision  Recall  accuracy\n",
    "print('Precision: {} / Recall: {} / Accuracy: {}'.format(round(precision, 3), round(recall, 3), round(accuracy, 3)))"
   ]
  },
  {
   "cell_type": "code",
   "execution_count": 27,
   "id": "bb4a3f0a",
   "metadata": {},
   "outputs": [
    {
     "name": "stdout",
     "output_type": "stream",
     "text": [
      "              precision    recall  f1-score   support\n",
      "\n",
      "           0       0.95      1.00      0.97       148\n",
      "           1       1.00      1.00      1.00       100\n",
      "           2       0.99      0.99      0.99        75\n",
      "           3       1.00      1.00      1.00        74\n",
      "           4       1.00      1.00      1.00        74\n",
      "           5       1.00      1.00      1.00        72\n",
      "           6       1.00      0.96      0.98        84\n",
      "           7       0.98      1.00      0.99        49\n",
      "           8       1.00      0.98      0.99        55\n",
      "           9       1.00      0.98      0.99        58\n",
      "          10       1.00      0.94      0.97        47\n",
      "          11       1.00      0.98      0.99        50\n",
      "          12       1.00      0.97      0.99        40\n",
      "          13       0.97      1.00      0.99        37\n",
      "          14       1.00      1.00      1.00        28\n",
      "          15       1.00      1.00      1.00        32\n",
      "          16       1.00      1.00      1.00        11\n",
      "\n",
      "    accuracy                           0.99      1034\n",
      "   macro avg       0.99      0.99      0.99      1034\n",
      "weighted avg       0.99      0.99      0.99      1034\n",
      "\n"
     ]
    }
   ],
   "source": [
    "cm = confusion_matrix(y_test, y_pred)\n",
    "cr = classification_report(y_test, y_pred)\n",
    "print (cr)"
   ]
  },
  {
   "cell_type": "code",
   "execution_count": 28,
   "id": "6b391c00",
   "metadata": {},
   "outputs": [
    {
     "name": "stdout",
     "output_type": "stream",
     "text": [
      "[[148   0   0   0   0   0   0   0   0   0   0   0   0   0   0   0   0]\n",
      " [  0 100   0   0   0   0   0   0   0   0   0   0   0   0   0   0   0]\n",
      " [  1   0  74   0   0   0   0   0   0   0   0   0   0   0   0   0   0]\n",
      " [  0   0   0  74   0   0   0   0   0   0   0   0   0   0   0   0   0]\n",
      " [  0   0   0   0  74   0   0   0   0   0   0   0   0   0   0   0   0]\n",
      " [  0   0   0   0   0  72   0   0   0   0   0   0   0   0   0   0   0]\n",
      " [  2   0   0   0   0   0  81   0   0   0   0   0   0   1   0   0   0]\n",
      " [  0   0   0   0   0   0   0  49   0   0   0   0   0   0   0   0   0]\n",
      " [  1   0   0   0   0   0   0   0  54   0   0   0   0   0   0   0   0]\n",
      " [  1   0   0   0   0   0   0   0   0  57   0   0   0   0   0   0   0]\n",
      " [  1   0   1   0   0   0   0   1   0   0  44   0   0   0   0   0   0]\n",
      " [  1   0   0   0   0   0   0   0   0   0   0  49   0   0   0   0   0]\n",
      " [  1   0   0   0   0   0   0   0   0   0   0   0  39   0   0   0   0]\n",
      " [  0   0   0   0   0   0   0   0   0   0   0   0   0  37   0   0   0]\n",
      " [  0   0   0   0   0   0   0   0   0   0   0   0   0   0  28   0   0]\n",
      " [  0   0   0   0   0   0   0   0   0   0   0   0   0   0   0  32   0]\n",
      " [  0   0   0   0   0   0   0   0   0   0   0   0   0   0   0   0  11]]\n"
     ]
    }
   ],
   "source": [
    "# visualising the confusion matrix\n",
    "print (cm)"
   ]
  },
  {
   "cell_type": "markdown",
   "id": "a4bcca52",
   "metadata": {},
   "source": [
    "# <font color='blue'> Test the model </font>"
   ]
  },
  {
   "cell_type": "code",
   "execution_count": 29,
   "id": "22f347d0",
   "metadata": {},
   "outputs": [
    {
     "name": "stdout",
     "output_type": "stream",
     "text": [
      "Hindi\n"
     ]
    }
   ],
   "source": [
    "text =\"आप कैसे हैं\"\n",
    "x = count.transform([text])\n",
    "pred = language_detect_model.predict(x)\n",
    "print(getcode(pred))"
   ]
  },
  {
   "cell_type": "code",
   "execution_count": 30,
   "id": "973ee185",
   "metadata": {},
   "outputs": [
    {
     "name": "stdout",
     "output_type": "stream",
     "text": [
      "Arabic\n"
     ]
    }
   ],
   "source": [
    "text =\"السلام عليكم يا اصحابي\"\n",
    "x = count.transform([text])\n",
    "pred = language_detect_model.predict(x)\n",
    "print(getcode(pred))"
   ]
  },
  {
   "cell_type": "code",
   "execution_count": 31,
   "id": "ec94b3eb",
   "metadata": {},
   "outputs": [
    {
     "name": "stdout",
     "output_type": "stream",
     "text": [
      "French\n"
     ]
    }
   ],
   "source": [
    "text =\"également préciser\"\n",
    "x = count.transform([text])\n",
    "pred = language_detect_model.predict(x)\n",
    "print(getcode(pred))"
   ]
  },
  {
   "cell_type": "code",
   "execution_count": 32,
   "id": "ef7d16ca",
   "metadata": {},
   "outputs": [
    {
     "name": "stdout",
     "output_type": "stream",
     "text": [
      "English\n"
     ]
    }
   ],
   "source": [
    "text =\"i am go to school\"\n",
    "x = count.transform([text])\n",
    "pred = language_detect_model.predict(x)\n",
    "print(getcode(pred))"
   ]
  },
  {
   "cell_type": "markdown",
   "id": "a92edcc2",
   "metadata": {},
   "source": [
    "# <font color='blue'>Test with GUI</font>"
   ]
  },
  {
   "cell_type": "code",
   "execution_count": 33,
   "id": "37a7a63c",
   "metadata": {},
   "outputs": [
    {
     "name": "stdout",
     "output_type": "stream",
     "text": [
      "Note: you may need to restart the kernel to use updated packages.\n"
     ]
    },
    {
     "name": "stderr",
     "output_type": "stream",
     "text": [
      "ERROR: Could not find a version that satisfies the requirement tkinter (from versions: none)\n",
      "ERROR: No matching distribution found for tkinter\n"
     ]
    }
   ],
   "source": [
    "pip install tkinter"
   ]
  },
  {
   "cell_type": "code",
   "execution_count": 39,
   "id": "14e00a28",
   "metadata": {},
   "outputs": [
    {
     "ename": "TypeError",
     "evalue": "LanguageDeductionGUI() takes no arguments",
     "output_type": "error",
     "traceback": [
      "\u001b[1;31m---------------------------------------------------------------------------\u001b[0m",
      "\u001b[1;31mTypeError\u001b[0m                                 Traceback (most recent call last)",
      "Cell \u001b[1;32mIn[39], line 37\u001b[0m\n\u001b[0;32m     34\u001b[0m         \u001b[38;5;28mself\u001b[39m\u001b[38;5;241m.\u001b[39mresult_label\u001b[38;5;241m.\u001b[39mpack()\n\u001b[0;32m     36\u001b[0m root \u001b[38;5;241m=\u001b[39m tk\u001b[38;5;241m.\u001b[39mTk()\n\u001b[1;32m---> 37\u001b[0m gui \u001b[38;5;241m=\u001b[39m LanguageDeductionGUI(root)\n\u001b[0;32m     38\u001b[0m root\u001b[38;5;241m.\u001b[39mmainloop()\n",
      "\u001b[1;31mTypeError\u001b[0m: LanguageDeductionGUI() takes no arguments"
     ]
    }
   ],
   "source": []
  },
  {
   "cell_type": "code",
   "execution_count": 65,
   "id": "9e8f6c45",
   "metadata": {},
   "outputs": [],
   "source": [
    "import tkinter as tk\n",
    "from tkinter import filedialog\n",
    "\n",
    "class LanguageDeductionGUI():\n",
    "    def __init__(self, root):\n",
    "        self.root = root\n",
    "        self.root.title(\"Language Deduction Tool\")\n",
    "\n",
    "        self.file_path = tk.StringVar()\n",
    "        self.file_label = tk.Label(self.root, text=\"Select file:\")\n",
    "        self.file_label.pack(pady=5)\n",
    "        self.file_entry = tk.Entry(self.root, textvariable=self.file_path)\n",
    "        self.browse_button = tk.Button(self.root, text=\"Upload Document\", command=self.browse_file)\n",
    "        self.browse_button.pack(pady=5)\n",
    "\n",
    "        self.text_label = tk.Label(self.root, text=\"Enter Quary:\")\n",
    "        self.text_label.pack(pady=5)\n",
    "        self.text_entry = tk.Entry(self.root)\n",
    "        self.text_entry.pack(pady=5)\n",
    "\n",
    "        self.predict_button = tk.Button(self.root, text=\"Score \", command=self.score)\n",
    "        self.predict_button.pack(pady=10)\n",
    "        self.output_label = tk.Label(self.root, text=\"Score : \")\n",
    "        self.output_label.pack()\n",
    "        self.output_text = tk.Text(self.root, width=50, height=5)\n",
    "        self.output_text.pack()\n",
    "\n",
    "    def browse_file(self):\n",
    "        self.file_path.set(filedialog.askopenfilename(title=\"Select File\", filetypes=[(\"Text files\", \"*.txt\")]))\n",
    "\n",
    "    def score(self):\n",
    "        \n",
    "        predicted_language = \"score function\" #replase it with function that run with click score button\n",
    "\n",
    "        # Clear the output text\n",
    "        self.output_text.delete(1.0, tk.END)\n",
    "\n",
    "        # the score\n",
    "        self.output_text.insert(tk.INSERT, predicted_language) #function / var of result from algo\n",
    "\n",
    "if __name__ == \"__main__\":\n",
    "    root = tk.Tk()\n",
    "    gui = LanguageDeductionGUI(root)\n",
    "    root.mainloop()\n"
   ]
  },
  {
   "cell_type": "markdown",
   "id": "774f6c86",
   "metadata": {},
   "source": [
    "# <font color='blue'> Saving the model</font>"
   ]
  },
  {
   "cell_type": "code",
   "execution_count": null,
   "id": "00c57db3",
   "metadata": {},
   "outputs": [],
   "source": [
    "#Saving Model\n",
    "with open('X.pickle', 'wb') as handle:\n",
    "    pickle.dump(X_count,handle)\n",
    "# save the model to disk\n",
    "filename = 'model.sav'\n",
    "pickle.dump(language_detect_model, open(filename, 'wb'))"
   ]
  },
  {
   "cell_type": "code",
   "execution_count": null,
   "id": "7cb5521c",
   "metadata": {},
   "outputs": [],
   "source": [
    "# Loading Model\n",
    "with open('X.pickle', 'rb') as handle:\n",
    "    data = pickle.load(handle)\n",
    "\n",
    "with open('model.sav', 'rb') as handle:\n",
    "    language_detect_model_loaded = pickle.load(handle)"
   ]
  },
  {
   "cell_type": "code",
   "execution_count": null,
   "id": "dd57667b",
   "metadata": {},
   "outputs": [],
   "source": []
  }
 ],
 "metadata": {
  "kernelspec": {
   "display_name": "Python 3 (ipykernel)",
   "language": "python",
   "name": "python3"
  },
  "language_info": {
   "codemirror_mode": {
    "name": "ipython",
    "version": 3
   },
   "file_extension": ".py",
   "mimetype": "text/x-python",
   "name": "python",
   "nbconvert_exporter": "python",
   "pygments_lexer": "ipython3",
   "version": "3.11.7"
  }
 },
 "nbformat": 4,
 "nbformat_minor": 5
}
