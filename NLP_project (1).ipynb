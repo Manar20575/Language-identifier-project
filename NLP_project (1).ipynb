{
 "cells": [
  {
   "cell_type": "markdown",
   "id": "2963da5f",
   "metadata": {},
   "source": [
    "# <font color='blue'> Import Libraries</font>\n"
   ]
  },
  {
   "cell_type": "code",
   "execution_count": 1,
   "id": "7150a254",
   "metadata": {},
   "outputs": [
    {
     "name": "stderr",
     "output_type": "stream",
     "text": [
      "D:\\Anaconda\\lib\\site-packages\\scipy\\__init__.py:146: UserWarning: A NumPy version >=1.16.5 and <1.23.0 is required for this version of SciPy (detected version 1.24.3\n",
      "  warnings.warn(f\"A NumPy version >={np_minversion} and <{np_maxversion}\"\n"
     ]
    }
   ],
   "source": [
    "import numpy as np\n",
    "import pandas as pd \n",
    "import matplotlib.pyplot as plt\n",
    "import nltk as nltk\n",
    "import re\n",
    "import string as str\n",
    "from nltk.tokenize import word_tokenize\n",
    "import nltk.data\n",
    "import csv\n",
    "import pickle\n",
    "import warnings\n",
    "warnings.simplefilter(\"ignore\")\n",
    "import codecs\n",
    "from nltk.corpus import stopwords\n",
    "from sklearn.feature_extraction.text import TfidfVectorizer\n",
    "from sklearn.feature_extraction.text import CountVectorizer\n",
    "import numpy as np\n",
    "import matplotlib.pyplot as plt\n",
    "%matplotlib inline\n",
    "import os\n",
    "from tqdm import tqdm\n",
    "from sklearn.model_selection import train_test_split\n",
    "from sklearn.naive_bayes import MultinomialNB\n",
    "from sklearn.metrics import precision_score, recall_score, accuracy_score,confusion_matrix,classification_report\n",
    "from sklearn.ensemble import RandomForestClassifier\n",
    "from sklearn import tree"
   ]
  },
  {
   "cell_type": "markdown",
   "id": "b50085a8",
   "metadata": {},
   "source": [
    "# <font color='blue'>  Reading Data </font>\n"
   ]
  },
  {
   "cell_type": "code",
   "execution_count": 2,
   "id": "aa3ffd02",
   "metadata": {},
   "outputs": [],
   "source": [
    "# Loading the dataset\n",
    "data=pd.read_csv(\"Language Detection.csv\") "
   ]
  },
  {
   "cell_type": "code",
   "execution_count": 3,
   "id": "d1da5627",
   "metadata": {},
   "outputs": [
    {
     "data": {
      "text/html": [
       "<div>\n",
       "<style scoped>\n",
       "    .dataframe tbody tr th:only-of-type {\n",
       "        vertical-align: middle;\n",
       "    }\n",
       "\n",
       "    .dataframe tbody tr th {\n",
       "        vertical-align: top;\n",
       "    }\n",
       "\n",
       "    .dataframe thead th {\n",
       "        text-align: right;\n",
       "    }\n",
       "</style>\n",
       "<table border=\"1\" class=\"dataframe\">\n",
       "  <thead>\n",
       "    <tr style=\"text-align: right;\">\n",
       "      <th></th>\n",
       "      <th>Text</th>\n",
       "      <th>Language</th>\n",
       "    </tr>\n",
       "  </thead>\n",
       "  <tbody>\n",
       "    <tr>\n",
       "      <th>0</th>\n",
       "      <td>Nature, in the broadest sense, is the natural, physical, material world or universe.</td>\n",
       "      <td>English</td>\n",
       "    </tr>\n",
       "    <tr>\n",
       "      <th>1</th>\n",
       "      <td>\"Nature\" can refer to the phenomena of the physical world, and also to life in general.</td>\n",
       "      <td>English</td>\n",
       "    </tr>\n",
       "    <tr>\n",
       "      <th>2</th>\n",
       "      <td>The study of nature is a large, if not the only, part of science.</td>\n",
       "      <td>English</td>\n",
       "    </tr>\n",
       "    <tr>\n",
       "      <th>3</th>\n",
       "      <td>Although humans are part of nature, human activity is often understood as a separate category from other natural phenomena.</td>\n",
       "      <td>English</td>\n",
       "    </tr>\n",
       "    <tr>\n",
       "      <th>4</th>\n",
       "      <td>[1] The word nature is borrowed from the Old French nature and is derived from the Latin word natura, or \"essential qualities, innate disposition\", and in ancient times, literally meant \"birth\".</td>\n",
       "      <td>English</td>\n",
       "    </tr>\n",
       "    <tr>\n",
       "      <th>...</th>\n",
       "      <td>...</td>\n",
       "      <td>...</td>\n",
       "    </tr>\n",
       "    <tr>\n",
       "      <th>10332</th>\n",
       "      <td>ನಿಮ್ಮ ತಪ್ಪು ಏನು ಬಂದಿದೆಯೆಂದರೆ ಆ ದಿನದಿಂದ ನಿಮಗೆ ಒಳ್ಳೆಯದನ್ನು ನೀಡೋಣ.</td>\n",
       "      <td>Kannada</td>\n",
       "    </tr>\n",
       "    <tr>\n",
       "      <th>10333</th>\n",
       "      <td>ನಾರ್ಸಿಸಾ ತಾನು ಮೊದಲಿಗೆ ಹೆಣಗಾಡುತ್ತಿದ್ದ ಮಾರ್ಗಗಳನ್ನು ಬದಲಾಯಿಸಿದಳು ಆದರೆ ನಿಧಾನವಾಗಿ ಮತ್ತು ತಾಳ್ಮೆಯಿಂದ ಅವಳು ಒಂದು ದಿನ ಮೆಲ್ಲಿ ಆಗಲು ಪ್ರಾರಂಭಿಸಿದಳು ಮೆಲ್ಲಿ ಮತ್ತು ಟೆರ್ರಿ ಮತ್ತೆ ಮರಿಯನ್ ಅವರನ್ನು ಭೇಟಿಯಾಗಲು ಬಂದರು ಓಹ್ ಹಲ...</td>\n",
       "      <td>Kannada</td>\n",
       "    </tr>\n",
       "    <tr>\n",
       "      <th>10334</th>\n",
       "      <td>ಹೇಗೆ ' ನಾರ್ಸಿಸಿಸಮ್ ಈಗ ಮರಿಯನ್ ಅವರಿಗೆ ಸಂಭವಿಸಿದ ಎಲ್ಲವನ್ನೂ ಹೇಳಿದೆ ಮತ್ತು ಅವಳು ಆ ಸಮಯದಿಂದ ತುಂಬಾ ಬದಲಾಗಿದ್ದಾಳೆ.</td>\n",
       "      <td>Kannada</td>\n",
       "    </tr>\n",
       "    <tr>\n",
       "      <th>10335</th>\n",
       "      <td>ಅವಳು ಈಗ ಹೆಚ್ಚು ಚಿನ್ನದ ಬ್ರೆಡ್ ಬಯಸುವುದಿಲ್ಲ ಎಂದು ನಾನು ess ಹಿಸಿದ್ದೇನೆ.</td>\n",
       "      <td>Kannada</td>\n",
       "    </tr>\n",
       "    <tr>\n",
       "      <th>10336</th>\n",
       "      <td>ಟೆರ್ರಿ ನೀವು ನಿಜವಾಗಿಯೂ ಆ ದೇವದೂತನಂತೆ ಸ್ವಲ್ಪ ಕಾಣುತ್ತಿದ್ದೀರಿ ಆದರೆ ನಾನು ಏನು ನೋಡುತ್ತಿದ್ದೇನೆ ನೀವು ಹೇಗೆ ಅವನಾಗಬಹುದು ನೀವು ಇಬ್ಬರು ತುಂಬಾ ಒಳ್ಳೆಯವರು</td>\n",
       "      <td>Kannada</td>\n",
       "    </tr>\n",
       "  </tbody>\n",
       "</table>\n",
       "<p>10337 rows × 2 columns</p>\n",
       "</div>"
      ],
      "text/plain": [
       "                                                                                                                                                                                                          Text  \\\n",
       "0                                                                                                                         Nature, in the broadest sense, is the natural, physical, material world or universe.   \n",
       "1                                                                                                                      \"Nature\" can refer to the phenomena of the physical world, and also to life in general.   \n",
       "2                                                                                                                                            The study of nature is a large, if not the only, part of science.   \n",
       "3                                                                                  Although humans are part of nature, human activity is often understood as a separate category from other natural phenomena.   \n",
       "4           [1] The word nature is borrowed from the Old French nature and is derived from the Latin word natura, or \"essential qualities, innate disposition\", and in ancient times, literally meant \"birth\".   \n",
       "...                                                                                                                                                                                                        ...   \n",
       "10332                                                                                                                                          ನಿಮ್ಮ ತಪ್ಪು ಏನು ಬಂದಿದೆಯೆಂದರೆ ಆ ದಿನದಿಂದ ನಿಮಗೆ ಒಳ್ಳೆಯದನ್ನು ನೀಡೋಣ.   \n",
       "10333  ನಾರ್ಸಿಸಾ ತಾನು ಮೊದಲಿಗೆ ಹೆಣಗಾಡುತ್ತಿದ್ದ ಮಾರ್ಗಗಳನ್ನು ಬದಲಾಯಿಸಿದಳು ಆದರೆ ನಿಧಾನವಾಗಿ ಮತ್ತು ತಾಳ್ಮೆಯಿಂದ ಅವಳು ಒಂದು ದಿನ ಮೆಲ್ಲಿ ಆಗಲು ಪ್ರಾರಂಭಿಸಿದಳು ಮೆಲ್ಲಿ ಮತ್ತು ಟೆರ್ರಿ ಮತ್ತೆ ಮರಿಯನ್ ಅವರನ್ನು ಭೇಟಿಯಾಗಲು ಬಂದರು ಓಹ್ ಹಲ...   \n",
       "10334                                                                                                   ಹೇಗೆ ' ನಾರ್ಸಿಸಿಸಮ್ ಈಗ ಮರಿಯನ್ ಅವರಿಗೆ ಸಂಭವಿಸಿದ ಎಲ್ಲವನ್ನೂ ಹೇಳಿದೆ ಮತ್ತು ಅವಳು ಆ ಸಮಯದಿಂದ ತುಂಬಾ ಬದಲಾಗಿದ್ದಾಳೆ.   \n",
       "10335                                                                                                                                       ಅವಳು ಈಗ ಹೆಚ್ಚು ಚಿನ್ನದ ಬ್ರೆಡ್ ಬಯಸುವುದಿಲ್ಲ ಎಂದು ನಾನು ess ಹಿಸಿದ್ದೇನೆ.   \n",
       "10336                                                                   ಟೆರ್ರಿ ನೀವು ನಿಜವಾಗಿಯೂ ಆ ದೇವದೂತನಂತೆ ಸ್ವಲ್ಪ ಕಾಣುತ್ತಿದ್ದೀರಿ ಆದರೆ ನಾನು ಏನು ನೋಡುತ್ತಿದ್ದೇನೆ ನೀವು ಹೇಗೆ ಅವನಾಗಬಹುದು ನೀವು ಇಬ್ಬರು ತುಂಬಾ ಒಳ್ಳೆಯವರು   \n",
       "\n",
       "      Language  \n",
       "0      English  \n",
       "1      English  \n",
       "2      English  \n",
       "3      English  \n",
       "4      English  \n",
       "...        ...  \n",
       "10332  Kannada  \n",
       "10333  Kannada  \n",
       "10334  Kannada  \n",
       "10335  Kannada  \n",
       "10336  Kannada  \n",
       "\n",
       "[10337 rows x 2 columns]"
      ]
     },
     "execution_count": 3,
     "metadata": {},
     "output_type": "execute_result"
    }
   ],
   "source": [
    "#This line sets an option in pandas to display columns with a maximum width of 200 characters.\n",
    "#This means that if any column has a longer value, it will be truncated to 200 characters.\n",
    "pd.set_option('display.max_colwidth',200)\n",
    "\n",
    "#This line displays the first 10337 rows of the \"data\".\n",
    "data.head(10337)"
   ]
  },
  {
   "cell_type": "markdown",
   "id": "8fc5f297",
   "metadata": {},
   "source": [
    "# <font color='blue'>Count Languages  </font>\n"
   ]
  },
  {
   "cell_type": "code",
   "execution_count": 4,
   "id": "b6257788",
   "metadata": {},
   "outputs": [
    {
     "name": "stdout",
     "output_type": "stream",
     "text": [
      "<class 'pandas.core.frame.DataFrame'>\n",
      "RangeIndex: 10337 entries, 0 to 10336\n",
      "Data columns (total 2 columns):\n",
      " #   Column    Non-Null Count  Dtype \n",
      "---  ------    --------------  ----- \n",
      " 0   Text      10337 non-null  object\n",
      " 1   Language  10337 non-null  object\n",
      "dtypes: object(2)\n",
      "memory usage: 161.6+ KB\n"
     ]
    }
   ],
   "source": [
    "#The info() method provides a summary of the DataFrame,including the number of rows and columns.\n",
    "data.info()"
   ]
  },
  {
   "cell_type": "code",
   "execution_count": 5,
   "id": "1387e012",
   "metadata": {},
   "outputs": [
    {
     "data": {
      "text/plain": [
       "English       1385\n",
       "French        1014\n",
       "Spanish        819\n",
       "Portugeese     739\n",
       "Italian        698\n",
       "Russian        692\n",
       "Sweedish       676\n",
       "Malayalam      594\n",
       "Dutch          546\n",
       "Arabic         536\n",
       "Turkish        474\n",
       "German         470\n",
       "Tamil          469\n",
       "Danish         428\n",
       "Kannada        369\n",
       "Greek          365\n",
       "Hindi           63\n",
       "Name: Language, dtype: int64"
      ]
     },
     "execution_count": 5,
     "metadata": {},
     "output_type": "execute_result"
    }
   ],
   "source": [
    "# value count for each language\n",
    "data[\"Language\"].value_counts()"
   ]
  },
  {
   "cell_type": "code",
   "execution_count": 6,
   "id": "911975a7",
   "metadata": {},
   "outputs": [
    {
     "data": {
      "text/plain": [
       "Text(0.5, 1.0, 'Target Labels')"
      ]
     },
     "execution_count": 6,
     "metadata": {},
     "output_type": "execute_result"
    },
    {
     "data": {
      "image/png": "[encoded data removed]",
      "text/plain": [
       "<Figure size 1080x360 with 1 Axes>"
      ]
     },
     "metadata": {
      "needs_background": "light"
     },
     "output_type": "display_data"
    }
   ],
   "source": [
    "# statistical graphics\n",
    "import seaborn as sns\n",
    "#This line of code creates a new figure with a size of 15 inches wide and 5 inches tall using the figure() function from matplotlib.\n",
    "plt.figure(figsize=(15,5))\n",
    "#creates a bar plot using the countplot() function from seaborn. \n",
    "#the x-axis \"Language\" || the y-axis \"count\".\n",
    "sns.countplot(x='Language',data=data,palette='Set1')\n",
    "#The x-axis will be labeled with the unique language values.\n",
    "#the y-axis will be labeled with the count of each language value\n",
    "plt.title('Target Labels',fontsize=20)"
   ]
  },
  {
   "cell_type": "code",
   "execution_count": 7,
   "id": "c6b39ced",
   "metadata": {},
   "outputs": [],
   "source": [
    "# separating the independent and dependant features\n",
    "X = data[\"Text\"]\n",
    "y = data[\"Language\"]"
   ]
  },
  {
   "cell_type": "code",
   "execution_count": 8,
   "id": "340c80fc",
   "metadata": {},
   "outputs": [
    {
     "data": {
      "text/plain": [
       "(10337,)"
      ]
     },
     "execution_count": 8,
     "metadata": {},
     "output_type": "execute_result"
    }
   ],
   "source": [
    "y.shape"
   ]
  },
  {
   "cell_type": "code",
   "execution_count": 27,
   "id": "e047c329",
   "metadata": {},
   "outputs": [
    {
     "data": {
      "text/plain": [
       "(10337,)"
      ]
     },
     "execution_count": 27,
     "metadata": {},
     "output_type": "execute_result"
    }
   ],
   "source": [
    "X.shape"
   ]
  },
  {
   "cell_type": "markdown",
   "id": "e59f6f84",
   "metadata": {},
   "source": [
    "# <font color='blue'>Text Preprocessing </font>"
   ]
  },
  {
   "cell_type": "code",
   "execution_count": 28,
   "id": "b80e3b95",
   "metadata": {},
   "outputs": [
    {
     "name": "stdout",
     "output_type": "stream",
     "text": [
      "!\"#$%&'()*+,-./:;<=>?@[\\]^_`{|}~\n"
     ]
    }
   ],
   "source": [
    "from string import punctuation\n",
    "punc=punctuation\n",
    "print(punc)"
   ]
  },
  {
   "cell_type": "code",
   "execution_count": 29,
   "id": "69e801b1",
   "metadata": {},
   "outputs": [],
   "source": [
    "#removing punctuation\n",
    "#text_no_punc = []\n",
    "#for text in X:\n",
    "#    text = re.sub(r'[!\"#$``%&\\'»«()*+,-./:;<=>?@\\\\^_`{|}~]', ' ', text)\n",
    "#    text = re.sub(r'[[]]', ' ', text)\n",
    "#    text_no_punc.append(text)"
   ]
  },
  {
   "cell_type": "code",
   "execution_count": 31,
   "id": "ab406b4a",
   "metadata": {},
   "outputs": [],
   "source": [
    "#removing punctuation\n",
    "def remove_punct(tokens):\n",
    "    text =\"\"\n",
    "    punc = punctuation\n",
    "    punc+='``'\n",
    "    punc+=\"''«»؟\"\n",
    "    for w in tokens:\n",
    "        if w not in punc:\n",
    "            text+=w\n",
    "    return text\n",
    "text_no_punc=X.apply(lambda x:remove_punct(x))"
   ]
  },
  {
   "cell_type": "code",
   "execution_count": 32,
   "id": "fe196969",
   "metadata": {},
   "outputs": [
    {
     "data": {
      "text/plain": [
       "[' nature in the broadest sense is the natural physical material world or universe',\n",
       " 'nature can refer to the phenomena of the physical world and also to life in general',\n",
       " 'the study of nature is a large if not the only part of science',\n",
       " 'although humans are part of nature human activity is often understood as a separate category from other natural phenomena',\n",
       " '1 the word nature is borrowed from the old french nature and is derived from the latin word natura or essential qualities innate disposition and in ancient times literally meant birth']"
      ]
     },
     "execution_count": 32,
     "metadata": {},
     "output_type": "execute_result"
    }
   ],
   "source": [
    "#converting to lower\n",
    "filtered_text=[]\n",
    "for text in text_no_punc:\n",
    "    text = text.lower()\n",
    "    filtered_text.append(text)\n",
    "filtered_text[:5]"
   ]
  },
  {
   "cell_type": "markdown",
   "id": "f724ab1c",
   "metadata": {},
   "source": [
    "# <font color='blue'> Count Vecorization </font>"
   ]
  },
  {
   "cell_type": "code",
   "execution_count": 33,
   "id": "01f69526",
   "metadata": {},
   "outputs": [],
   "source": [
    "#counts the occurrence of each word in each text sample and returns sparse matrix. \n",
    "from sklearn.feature_extraction.text import CountVectorizer\n",
    "count = CountVectorizer()\n",
    "X_count = count.fit_transform(filtered_text)"
   ]
  },
  {
   "cell_type": "code",
   "execution_count": 34,
   "id": "ce92de6c",
   "metadata": {},
   "outputs": [
    {
     "name": "stdout",
     "output_type": "stream",
     "text": [
      "(10337, 41358)\n",
      "Sparse Matrix :\n",
      " [[0 0 0 ... 0 0 0]\n",
      " [0 0 0 ... 0 0 0]\n",
      " [0 0 0 ... 0 0 0]\n",
      " ...\n",
      " [0 0 0 ... 0 0 0]\n",
      " [0 0 0 ... 0 0 0]\n",
      " [0 0 0 ... 0 0 0]]\n"
     ]
    }
   ],
   "source": [
    "#print the shape and content of the resulting feature matrix.\n",
    "print(X_count.shape)\n",
    "print('Sparse Matrix :\\n',X_count.toarray())"
   ]
  },
  {
   "cell_type": "markdown",
   "id": "f3f20c22",
   "metadata": {},
   "source": [
    "# <font color='blue'> N-Grams Vecorization</font>"
   ]
  },
  {
   "cell_type": "code",
   "execution_count": null,
   "id": "04d80b7c",
   "metadata": {},
   "outputs": [],
   "source": [
    "#which is used to convert a list of text samples into a matrix of count features with n-grams of size 2.\n",
    "n_gram=CountVectorizer(ngram_range=(2,2))\n",
    "X_ngram=n_gram.fit_transform(filtered_text)"
   ]
  },
  {
   "cell_type": "code",
   "execution_count": 17,
   "id": "28f54fb6",
   "metadata": {},
   "outputs": [
    {
     "name": "stdout",
     "output_type": "stream",
     "text": [
      "(10337, 130499)\n",
      "Sparse Matrix :\n",
      " [[0 0 0 ... 0 0 0]\n",
      " [0 0 0 ... 0 0 0]\n",
      " [0 0 0 ... 0 0 0]\n",
      " ...\n",
      " [0 0 0 ... 0 0 0]\n",
      " [0 0 0 ... 0 0 0]\n",
      " [0 0 0 ... 0 0 0]]\n"
     ]
    }
   ],
   "source": [
    "#print the shape and content of the result.\n",
    "print(X_ngram.shape)\n",
    "print('Sparse Matrix :\\n',X_ngram.toarray())"
   ]
  },
  {
   "cell_type": "markdown",
   "id": "9c6e4e5c",
   "metadata": {},
   "source": [
    "# <font color='blue'>  TF-IDF Vecorization</font>"
   ]
  },
  {
   "cell_type": "code",
   "execution_count": 18,
   "id": "f49b7615",
   "metadata": {},
   "outputs": [],
   "source": [
    "# to convert a list of text samples into a matrix of TF-IDF features.\n",
    "tfidf=TfidfVectorizer()\n",
    "X_tfidf=n_gram.fit_transform(filtered_text)"
   ]
  },
  {
   "cell_type": "code",
   "execution_count": 19,
   "id": "e09980e9",
   "metadata": {},
   "outputs": [
    {
     "name": "stdout",
     "output_type": "stream",
     "text": [
      "(10337, 130499)\n",
      "Sparse Matrix :\n",
      " [[0 0 0 ... 0 0 0]\n",
      " [0 0 0 ... 0 0 0]\n",
      " [0 0 0 ... 0 0 0]\n",
      " ...\n",
      " [0 0 0 ... 0 0 0]\n",
      " [0 0 0 ... 0 0 0]\n",
      " [0 0 0 ... 0 0 0]]\n"
     ]
    }
   ],
   "source": [
    "#print the shape and content of the result.\n",
    "print(X_tfidf.shape)\n",
    "print('Sparse Matrix :\\n',X_tfidf.toarray())"
   ]
  },
  {
   "cell_type": "markdown",
   "id": "1724ddf2",
   "metadata": {},
   "source": [
    "# <font color='blue'> Languages encoding</font>"
   ]
  },
  {
   "cell_type": "code",
   "execution_count": 20,
   "id": "2f787f30",
   "metadata": {},
   "outputs": [],
   "source": [
    "# converting categorical variables to numerical\n",
    "language_encode={\"English\":0,\n",
    "\"French\":1,\n",
    "\"Spanish\":2,\n",
    "\"Portugeese\":3,\n",
    "\"Italian\":4,\n",
    "\"Russian\":5,\n",
    "\"Sweedish\":6,\n",
    "\"Malayalam\":7,\n",
    "\"Dutch\":8,\n",
    "\"Arabic\":9,\n",
    "\"Turkish\":10,\n",
    "\"German\":11,\n",
    "\"Tamil\":12,\n",
    "\"Danish\":13,\n",
    "\"Kannada\":14,\n",
    "\"Greek\":15,\n",
    "\"Hindi\":16}\n",
    "\n",
    "Y =y.apply(lambda x : language_encode[x])"
   ]
  },
  {
   "cell_type": "code",
   "execution_count": 21,
   "id": "480e7458",
   "metadata": {},
   "outputs": [],
   "source": [
    "#encoding function \n",
    "def getcode(n) : \n",
    "    for x , y in language_encode.items() : \n",
    "        if n == y : \n",
    "            return x "
   ]
  },
  {
   "cell_type": "markdown",
   "id": "57297466",
   "metadata": {},
   "source": [
    "# <font color='blue'>Train Test split</font>"
   ]
  },
  {
   "cell_type": "code",
   "execution_count": 22,
   "id": "491ab47e",
   "metadata": {},
   "outputs": [],
   "source": [
    "from sklearn.model_selection import train_test_split\n",
    "\n",
    "x_train, x_test, y_train, y_test = train_test_split(X_count, Y, test_size = 0.10,random_state=24)"
   ]
  },
  {
   "cell_type": "markdown",
   "id": "2d7ea588",
   "metadata": {},
   "source": [
    "# <font color='blue'>Model creation and prediction  </font>"
   ]
  },
  {
   "cell_type": "code",
   "execution_count": 23,
   "id": "ca28a2cb",
   "metadata": {},
   "outputs": [],
   "source": [
    "from sklearn.naive_bayes import MultinomialNB\n",
    "from sklearn.metrics import precision_score, recall_score, accuracy_score,confusion_matrix,classification_report\n",
    "from sklearn.ensemble import RandomForestClassifier\n",
    "from sklearn import tree"
   ]
  },
  {
   "cell_type": "code",
   "execution_count": 24,
   "id": "3329f271",
   "metadata": {
    "scrolled": true
   },
   "outputs": [
    {
     "data": {
      "text/plain": [
       "MultinomialNB()"
      ]
     },
     "execution_count": 24,
     "metadata": {},
     "output_type": "execute_result"
    }
   ],
   "source": [
    "# training\n",
    "language_detect_model = MultinomialNB()\n",
    "language_detect_model.fit(x_train, y_train)"
   ]
  },
  {
   "cell_type": "code",
   "execution_count": 25,
   "id": "74a87aae",
   "metadata": {},
   "outputs": [],
   "source": [
    "# prediction \n",
    "y_pred = language_detect_model.predict(x_test)"
   ]
  },
  {
   "cell_type": "markdown",
   "id": "c66959c7",
   "metadata": {},
   "source": [
    "# <font color='blue'>Predictions </font>"
   ]
  },
  {
   "cell_type": "code",
   "execution_count": null,
   "id": "c30e9577",
   "metadata": {},
   "outputs": [],
   "source": [
    "precision = precision_score(y_test, y_pred,pos_label='positive',average='macro')\n",
    "recall = recall_score(y_test, y_pred,pos_label='positive',average='macro')\n",
    "accuracy = accuracy_score(y_test, y_pred)\n",
    "#print   Precision  Recall  accuracy\n",
    "print('Precision: {} / Recall: {} / Accuracy: {}'.format(round(precision, 3), round(recall, 3), round(accuracy, 3)))"
   ]
  },
  {
   "cell_type": "code",
   "execution_count": null,
   "id": "bb4a3f0a",
   "metadata": {},
   "outputs": [],
   "source": [
    "cm = confusion_matrix(y_test, y_pred)\n",
    "cr = classification_report(y_test, y_pred)\n",
    "print (cr)"
   ]
  },
  {
   "cell_type": "code",
   "execution_count": null,
   "id": "6b391c00",
   "metadata": {},
   "outputs": [],
   "source": [
    "# visualising the confusion matrix\n",
    "print (cm)"
   ]
  },
  {
   "cell_type": "markdown",
   "id": "a4bcca52",
   "metadata": {},
   "source": [
    "# <font color='blue'> Test the model </font>"
   ]
  },
  {
   "cell_type": "code",
   "execution_count": null,
   "id": "22f347d0",
   "metadata": {},
   "outputs": [],
   "source": [
    "text =\"आप कैसे हैं\"\n",
    "x = count.transform([text])\n",
    "pred = language_detect_model.predict(x)\n",
    "print(getcode(pred))"
   ]
  },
  {
   "cell_type": "code",
   "execution_count": null,
   "id": "973ee185",
   "metadata": {},
   "outputs": [],
   "source": [
    "text =\"السلام عليكم يا اصحابي\"\n",
    "x = count.transform([text])\n",
    "pred = language_detect_model.predict(x)\n",
    "print(getcode(pred))"
   ]
  },
  {
   "cell_type": "code",
   "execution_count": null,
   "id": "ec94b3eb",
   "metadata": {},
   "outputs": [],
   "source": [
    "text =\"également préciser\"\n",
    "x = count.transform([text])\n",
    "pred = language_detect_model.predict(x)\n",
    "print(getcode(pred))"
   ]
  },
  {
   "cell_type": "code",
   "execution_count": null,
   "id": "ef7d16ca",
   "metadata": {},
   "outputs": [],
   "source": [
    "text =\"i am go to school\"\n",
    "x = count.transform([text])\n",
    "pred = language_detect_model.predict(x)\n",
    "print(getcode(pred))"
   ]
  },
  {
   "cell_type": "markdown",
   "id": "a92edcc2",
   "metadata": {},
   "source": [
    "# <font color='blue'>Test with GUI</font>"
   ]
  },
  {
   "cell_type": "code",
   "execution_count": null,
   "id": "37a7a63c",
   "metadata": {},
   "outputs": [],
   "source": [
    "#!pip install tkinter\n",
    "import tkinter as tk\n",
    "\n",
    "class LanguageDeductionGUI():\n",
    "    def __init__(self, master):\n",
    "        self.master = master\n",
    "        master.title(\"Language Deduction Program\")\n",
    "        master.geometry(\"400x200\")\n",
    "        master.configure(bg='white')\n",
    "\n",
    "        self.label = tk.Label(master, text=\"Enter text to detect language:\", bg='white')\n",
    "        self.label.pack()\n",
    "\n",
    "        self.textbox = tk.Text(master, height=5)\n",
    "        self.textbox.pack()\n",
    "\n",
    "        self.button = tk.Button(master, text=\"Detect Language\", command=self.detect_language)\n",
    "        self.button.pack()\n",
    "\n",
    "    def detect_language(self):\n",
    "        text = self.textbox.get(\"1.0\", \"end-1c\")\n",
    "        \n",
    "        try:\n",
    "            x = count.transform([text])\n",
    "            pred = language_detect_model.predict(x)\n",
    "            lang = getcode(pred)\n",
    "            result_text = f\"The detected language is {lang}\"\n",
    "            result_color = 'green'\n",
    "            \n",
    "        except:\n",
    "            result_text = \"Unable to detect language\"\n",
    "            result_color = 'red'\n",
    "        \n",
    "        self.result_label = tk.Label(self.master, text=result_text, fg=result_color, bg='white')\n",
    "        self.result_label.pack()\n",
    "\n",
    "if __name__ == \"__main__\":\n",
    "    root = tk.Tk()\n",
    "    gui = LanguageDeductionGUI(root)\n",
    "    root.mainloop()"
   ]
  },
  {
   "cell_type": "markdown",
   "id": "774f6c86",
   "metadata": {},
   "source": [
    "# <font color='blue'> Saving the model</font>"
   ]
  },
  {
   "cell_type": "code",
   "execution_count": null,
   "id": "00c57db3",
   "metadata": {},
   "outputs": [],
   "source": [
    "#Saving Model\n",
    "with open('X.pickle', 'wb') as handle:\n",
    "    pickle.dump(X_count,handle)\n",
    "# save the model to disk\n",
    "filename = 'model.sav'\n",
    "pickle.dump(language_detect_model, open(filename, 'wb'))"
   ]
  },
  {
   "cell_type": "code",
   "execution_count": null,
   "id": "7cb5521c",
   "metadata": {},
   "outputs": [],
   "source": [
    "# Loading Model\n",
    "with open('X.pickle', 'rb') as handle:\n",
    "    data = pickle.load(handle)\n",
    "\n",
    "with open('model.sav', 'rb') as handle:\n",
    "    language_detect_model_loaded = pickle.load(handle)"
   ]
  },
  {
   "cell_type": "code",
   "execution_count": null,
   "id": "dd57667b",
   "metadata": {},
   "outputs": [],
   "source": []
  }
 ],
 "metadata": {
  "kernelspec": {
   "display_name": "Python 3 (ipykernel)",
   "language": "python",
   "name": "python3"
  },
  "language_info": {
   "codemirror_mode": {
    "name": "ipython",
    "version": 3
   },
   "file_extension": ".py",
   "mimetype": "text/x-python",
   "name": "python",
   "nbconvert_exporter": "python",
   "pygments_lexer": "ipython3",
   "version": "3.11.7"
  }
 },
 "nbformat": 4,
 "nbformat_minor": 5
}
